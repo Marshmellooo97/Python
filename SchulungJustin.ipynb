{
 "cells": [
  {
   "cell_type": "markdown",
   "metadata": {},
   "source": [
    "## Ausgabe"
   ]
  },
  {
   "cell_type": "code",
   "execution_count": 1,
   "metadata": {},
   "outputs": [
    {
     "name": "stdout",
     "output_type": "stream",
     "text": [
      "Hallo\n"
     ]
    }
   ],
   "source": [
    "print('Hallo')"
   ]
  },
  {
   "cell_type": "markdown",
   "metadata": {},
   "source": [
    "## Eingabe"
   ]
  },
  {
   "cell_type": "code",
   "execution_count": 3,
   "metadata": {},
   "outputs": [
    {
     "name": "stdout",
     "output_type": "stream",
     "text": [
      "Test\n"
     ]
    }
   ],
   "source": [
    "name = input('Name eingeben')\n",
    "print(name)"
   ]
  },
  {
   "cell_type": "markdown",
   "metadata": {},
   "source": [
    "## Datentypen"
   ]
  },
  {
   "cell_type": "code",
   "execution_count": 1,
   "metadata": {},
   "outputs": [
    {
     "name": "stdout",
     "output_type": "stream",
     "text": [
      "<class 'int'>\n",
      "<class 'float'>\n",
      "<class 'str'>\n"
     ]
    }
   ],
   "source": [
    "x = 5\n",
    "print(type(x))\n",
    "x = 5.0\n",
    "print(type(x))\n",
    "x = '5'\n",
    "print(type(x))"
   ]
  },
  {
   "cell_type": "markdown",
   "metadata": {},
   "source": [
    "## Kontrollstrukturen "
   ]
  },
  {
   "cell_type": "markdown",
   "metadata": {},
   "source": [
    "### IF"
   ]
  },
  {
   "cell_type": "code",
   "execution_count": 2,
   "metadata": {},
   "outputs": [
    {
     "name": "stdout",
     "output_type": "stream",
     "text": [
      "Was anderes\n"
     ]
    }
   ],
   "source": [
    "x = True\n",
    "if type(x) == int:\n",
    "    print('Int')\n",
    "else: \n",
    "    print('Was anderes')"
   ]
  },
  {
   "cell_type": "markdown",
   "metadata": {},
   "source": [
    "### Schleifen"
   ]
  },
  {
   "cell_type": "markdown",
   "metadata": {},
   "source": [
    "#### For"
   ]
  },
  {
   "cell_type": "code",
   "execution_count": null,
   "metadata": {},
   "outputs": [
    {
     "name": "stdout",
     "output_type": "stream",
     "text": [
      "0\n",
      "1\n",
      "3\n",
      "4\n"
     ]
    }
   ],
   "source": [
    "for i in range(0,6):\n",
    "    if i == 2: continue\n",
    "    elif i == 5: break\n",
    "    else: print(i)"
   ]
  },
  {
   "cell_type": "markdown",
   "metadata": {},
   "source": [
    "#### while"
   ]
  },
  {
   "cell_type": "code",
   "execution_count": 3,
   "metadata": {},
   "outputs": [
    {
     "name": "stdout",
     "output_type": "stream",
     "text": [
      "0\n",
      "1\n"
     ]
    },
    {
     "ename": "KeyboardInterrupt",
     "evalue": "",
     "output_type": "error",
     "traceback": [
      "\u001b[0;31m---------------------------------------------------------------------------\u001b[0m",
      "\u001b[0;31mKeyboardInterrupt\u001b[0m                         Traceback (most recent call last)",
      "\u001b[1;32m/home/jsimon/repos/Schulung/Schulung/SchulungJustin.ipynb Zelle 14\u001b[0m in \u001b[0;36m<cell line: 2>\u001b[0;34m()\u001b[0m\n\u001b[1;32m      <a href='vscode-notebook-cell:/home/jsimon/repos/Schulung/Schulung/SchulungJustin.ipynb#X16sZmlsZQ%3D%3D?line=0'>1</a>\u001b[0m counter \u001b[39m=\u001b[39m \u001b[39m0\u001b[39m\n\u001b[0;32m----> <a href='vscode-notebook-cell:/home/jsimon/repos/Schulung/Schulung/SchulungJustin.ipynb#X16sZmlsZQ%3D%3D?line=1'>2</a>\u001b[0m \u001b[39mwhile\u001b[39;00m counter \u001b[39m<\u001b[39m \u001b[39m6\u001b[39m:\n\u001b[1;32m      <a href='vscode-notebook-cell:/home/jsimon/repos/Schulung/Schulung/SchulungJustin.ipynb#X16sZmlsZQ%3D%3D?line=2'>3</a>\u001b[0m     \u001b[39mif\u001b[39;00m counter \u001b[39m==\u001b[39m \u001b[39m2\u001b[39m: \u001b[39mcontinue\u001b[39;00m\n\u001b[1;32m      <a href='vscode-notebook-cell:/home/jsimon/repos/Schulung/Schulung/SchulungJustin.ipynb#X16sZmlsZQ%3D%3D?line=3'>4</a>\u001b[0m     \u001b[39melif\u001b[39;00m counter \u001b[39m==\u001b[39m \u001b[39m5\u001b[39m: \u001b[39mbreak\u001b[39;00m\n",
      "\u001b[0;31mKeyboardInterrupt\u001b[0m: "
     ]
    }
   ],
   "source": [
    "counter = 0\n",
    "while counter < 6:\n",
    "    if counter == 2: continue\n",
    "    elif counter == 5: break\n",
    "    else: print(counter)\n",
    "    counter += 1"
   ]
  },
  {
   "cell_type": "code",
   "execution_count": 6,
   "metadata": {},
   "outputs": [
    {
     "name": "stdout",
     "output_type": "stream",
     "text": [
      "1\n",
      "3\n",
      "4\n"
     ]
    }
   ],
   "source": [
    "counter = 0\n",
    "while counter < 6:\n",
    "    counter += 1\n",
    "    if counter == 2: continue\n",
    "    elif counter == 5: break\n",
    "    else: print(counter)"
   ]
  },
  {
   "cell_type": "markdown",
   "metadata": {},
   "source": [
    "## Liste"
   ]
  },
  {
   "cell_type": "markdown",
   "metadata": {},
   "source": [
    "Liste erstellen"
   ]
  },
  {
   "cell_type": "code",
   "execution_count": 12,
   "metadata": {},
   "outputs": [
    {
     "name": "stdout",
     "output_type": "stream",
     "text": [
      "Leere Liste erstellen\n",
      "[]\n",
      "Liste erstellen mit Elementen\n",
      "['1', 'zweites', 3, 4, 5, 6]\n"
     ]
    }
   ],
   "source": [
    "print('Leere Liste erstellen')\n",
    "leereListe = []\n",
    "print(leereListe)\n",
    "\n",
    "print('Liste erstellen mit Elementen')\n",
    "listeVoll = ['1', 'zweites',3, 4, 5, 6]\n",
    "print(listeVoll)"
   ]
  },
  {
   "cell_type": "markdown",
   "metadata": {},
   "source": [
    "Hinzufügen"
   ]
  },
  {
   "cell_type": "code",
   "execution_count": null,
   "metadata": {},
   "outputs": [
    {
     "name": "stdout",
     "output_type": "stream",
     "text": [
      "['1', 'zweites', 3, 4, 5, 'Element', 'Element']\n"
     ]
    }
   ],
   "source": [
    "listeVoll.append('Element')\n",
    "print(listeVoll)"
   ]
  },
  {
   "cell_type": "markdown",
   "metadata": {},
   "source": [
    "Löschen"
   ]
  },
  {
   "cell_type": "code",
   "execution_count": null,
   "metadata": {},
   "outputs": [
    {
     "name": "stdout",
     "output_type": "stream",
     "text": [
      "Löschen\n",
      "['1', 'zweites', 3, 4, 5]\n",
      "Letztes Element Löschen & zwischen speichern\n",
      "5\n",
      "2tes Element löschen\n",
      "['1', 'zweites', 3]\n",
      "Bestimmtes Element Löschen\n",
      "['zweites', 3]\n"
     ]
    }
   ],
   "source": [
    "listeVoll = ['1', 'zweites',3, 4, 5, 6]\n",
    "print('Löschen') \n",
    "listeVoll.pop()\n",
    "print(listeVoll)\n",
    "\n",
    "print('Letztes Element Löschen & zwischen speichern')\n",
    "last = listeVoll.pop()\n",
    "print(last)\n",
    "\n",
    "print('2tes Element löschen')\n",
    "del listeVoll[3]\n",
    "print(listeVoll)\n",
    "\n",
    "print('Bestimmtes Element Löschen')\n",
    "listeVoll.remove('1')\n",
    "print(listeVoll)\n"
   ]
  },
  {
   "cell_type": "markdown",
   "metadata": {},
   "source": [
    "Auf Element zugreifen und Teillisten erstellen"
   ]
  },
  {
   "cell_type": "code",
   "execution_count": 7,
   "metadata": {},
   "outputs": [
    {
     "name": "stdout",
     "output_type": "stream",
     "text": [
      "auf Element 0 zugreifen\n",
      "1\n",
      "Teilliste von Liste erstellen\n",
      "['1', 'zweites', 3, 4, 5, 6]\n"
     ]
    }
   ],
   "source": [
    "listeVoll = ['1', 'zweites',3, 4, 5, 6]\n",
    "print('auf Element 0 zugreifen')\n",
    "print(listeVoll[0])\n",
    "\n",
    "print('Teilliste von Liste erstellen')\n",
    "teil = listeVoll[1:3]\n",
    "print(listeVoll)\n"
   ]
  },
  {
   "cell_type": "markdown",
   "metadata": {},
   "source": [
    "Liste Vereinfachungen"
   ]
  },
  {
   "cell_type": "code",
   "execution_count": 4,
   "metadata": {},
   "outputs": [
    {
     "name": "stdout",
     "output_type": "stream",
     "text": [
      "[1, 4, 9, 16, 25, 36, 49, 64]\n",
      "[5, 6, 7, 8]\n"
     ]
    }
   ],
   "source": [
    "numbers = [1, 2, 3, 4, 5, 6, 7, 8]\n",
    "ys = []\n",
    "for number in numbers:\n",
    "    ys.append(number * number)\n",
    "# Andere Möglichkeit\n",
    "numbers = [1, 2, 3, 4, 5, 6, 7, 8]\n",
    "numberMul = [number * number for number in numbers]\n",
    "print(numberMul)\n",
    "# Filtern \n",
    "numberFilter = [number for number in numbers if number > 4]\n",
    "print(numberFilter)"
   ]
  },
  {
   "cell_type": "markdown",
   "metadata": {},
   "source": [
    "Länge der Liste"
   ]
  },
  {
   "cell_type": "code",
   "execution_count": 21,
   "metadata": {},
   "outputs": [
    {
     "name": "stdout",
     "output_type": "stream",
     "text": [
      "6\n"
     ]
    }
   ],
   "source": [
    "listeVoll = ['1', 'zweites',3, 4, 5, 6]\n",
    "print(len(listeVoll))"
   ]
  },
  {
   "cell_type": "markdown",
   "metadata": {},
   "source": [
    "Ein String beim Element x zerschneiden und eine Liste daraus erstellen"
   ]
  },
  {
   "cell_type": "code",
   "execution_count": 22,
   "metadata": {},
   "outputs": [
    {
     "name": "stdout",
     "output_type": "stream",
     "text": [
      "['Das', 'ist', 'ein', 'Satz', 'der', 'besteht', 'aus', 'vielen', 'Wörtern!']\n",
      "9\n"
     ]
    }
   ],
   "source": [
    "s = 'Das ist ein Satz der besteht aus vielen Wörtern!'\n",
    "s = s.split(' ')  # Von string zu Liste\n",
    "print(s)\n",
    "print(len(s))"
   ]
  },
  {
   "cell_type": "markdown",
   "metadata": {},
   "source": [
    "Ist Element in Liste"
   ]
  },
  {
   "cell_type": "code",
   "execution_count": null,
   "metadata": {},
   "outputs": [
    {
     "name": "stdout",
     "output_type": "stream",
     "text": [
      "Ja\n"
     ]
    }
   ],
   "source": [
    "listeVoll = ['1', 'zweites',3]\n",
    "if '1' in listeVoll:\n",
    "    print('Ja')"
   ]
  },
  {
   "cell_type": "markdown",
   "metadata": {},
   "source": [
    "Liste Ausgeben"
   ]
  },
  {
   "cell_type": "code",
   "execution_count": null,
   "metadata": {},
   "outputs": [
    {
     "name": "stdout",
     "output_type": "stream",
     "text": [
      "Möglichkeit 1\n",
      "1\n",
      "zweites\n",
      "3\n",
      "Möglichkeit 2\n",
      "1\n",
      "zweites\n",
      "3\n"
     ]
    }
   ],
   "source": [
    "listeVoll = ['1', 'zweites',3]\n",
    "print('Möglichkeit 1')\n",
    "for x in listeVoll:\n",
    "    print(x)\n",
    "print('Möglichkeit 2')\n",
    "for i in range(len(listeVoll)):\n",
    "    print(listeVoll[i])"
   ]
  },
  {
   "cell_type": "markdown",
   "metadata": {},
   "source": [
    "#### 2Dim Array"
   ]
  },
  {
   "cell_type": "code",
   "execution_count": 2,
   "metadata": {},
   "outputs": [
    {
     "name": "stdout",
     "output_type": "stream",
     "text": [
      "1\n",
      "2\n",
      "3\n",
      "4\n",
      "5\n",
      "6\n",
      "7\n",
      "8\n",
      "9\n"
     ]
    }
   ],
   "source": [
    "matrix = [\n",
    "    [1,2,3],\n",
    "    [4,5,6],\n",
    "    [7,8,9]\n",
    "]\n",
    "for row in matrix:\n",
    "    for number in row:\n",
    "        print(number)"
   ]
  },
  {
   "cell_type": "markdown",
   "metadata": {},
   "source": [
    "## Dictionary"
   ]
  },
  {
   "cell_type": "markdown",
   "metadata": {},
   "source": [
    "Dictionary erstellen"
   ]
  },
  {
   "cell_type": "code",
   "execution_count": null,
   "metadata": {},
   "outputs": [
    {
     "name": "stdout",
     "output_type": "stream",
     "text": [
      "Leeres Dict erstellen\n",
      "{}\n",
      "Volles Dict erstellen\n",
      "{'Berlin': 'BER', 'Helsinki': 'HEL'}\n"
     ]
    }
   ],
   "source": [
    "print('Leeres Dict erstellen')\n",
    "dictLeer = {}\n",
    "print(dictLeer)\n",
    "\n",
    "print('Volles Dict erstellen')\n",
    "dictVoll = {'Berlin': 'BER', 'Helsinki': 'HEL'}\n",
    "print(dictVoll)"
   ]
  },
  {
   "cell_type": "markdown",
   "metadata": {},
   "source": [
    "Element Hinzufügen"
   ]
  },
  {
   "cell_type": "code",
   "execution_count": null,
   "metadata": {},
   "outputs": [
    {
     "name": "stdout",
     "output_type": "stream",
     "text": [
      "{'Berlin': 'BER', 'Helsinki': 'HEL', 'Saigon': 'SGN'}\n"
     ]
    }
   ],
   "source": [
    "dictVoll['Saigon'] = 'SGN'\n",
    "print(dictVoll)"
   ]
  },
  {
   "cell_type": "markdown",
   "metadata": {},
   "source": [
    "Löschen"
   ]
  },
  {
   "cell_type": "code",
   "execution_count": null,
   "metadata": {},
   "outputs": [
    {
     "name": "stdout",
     "output_type": "stream",
     "text": [
      "{'Berlin': 'BER', 'Helsinki': 'HEL'}\n"
     ]
    }
   ],
   "source": [
    "del dictVoll['Saigon']\n",
    "print(dictVoll)"
   ]
  },
  {
   "cell_type": "markdown",
   "metadata": {},
   "source": [
    "Zugreifen"
   ]
  },
  {
   "cell_type": "code",
   "execution_count": null,
   "metadata": {},
   "outputs": [
    {
     "name": "stdout",
     "output_type": "stream",
     "text": [
      "None\n",
      "BER\n"
     ]
    }
   ],
   "source": [
    "d = dictVoll.get('Budapest')\n",
    "print(d)\n",
    "\n",
    "print(dictVoll.get('Berlin'))"
   ]
  },
  {
   "cell_type": "markdown",
   "metadata": {},
   "source": [
    "Abfragen "
   ]
  },
  {
   "cell_type": "code",
   "execution_count": null,
   "metadata": {},
   "outputs": [
    {
     "name": "stdout",
     "output_type": "stream",
     "text": [
      "dict Abfragen Normal\n",
      "JA\n",
      "Abfrage Bool\n",
      "True\n",
      "Abfrage .keys\n",
      "JA\n",
      "Abfrage .values\n",
      "NEIN\n"
     ]
    }
   ],
   "source": [
    "\n",
    "print('dict Abfragen Normal')\n",
    "if 'Berlin' in dictVoll:\n",
    "    print('JA')\n",
    "else:\n",
    "    print('NEIN')\n",
    "\n",
    "print('Abfrage Bool')\n",
    "print('Berlin' in dictVoll)\n",
    "\n",
    "print('Abfrage .keys')\n",
    "if 'Berlin' in dictVoll.keys():\n",
    "    print('JA')\n",
    "else:\n",
    "    print('NEIN')\n",
    "\n",
    "print('Abfrage .values')\n",
    "if 'Berlin' in dictVoll.values():\n",
    "    print('JA')\n",
    "else:\n",
    "    print('NEIN')"
   ]
  },
  {
   "cell_type": "markdown",
   "metadata": {},
   "source": [
    "Ausgeben"
   ]
  },
  {
   "cell_type": "code",
   "execution_count": null,
   "metadata": {},
   "outputs": [
    {
     "name": "stdout",
     "output_type": "stream",
     "text": [
      "Dict Ausgeben\n",
      "Berlin: BER\n",
      "Helsinki: HEL\n",
      "Dict Ausgabe nur Schlüssel\n",
      "Berlin\n",
      "Helsinki\n",
      "Dict Ausgabe nur keys ist gleich Normal\n",
      "Berlin\n",
      "Helsinki\n",
      "Dict Ausgabe nur values\n",
      "BER\n",
      "HEL\n",
      "Dict in Liste mit Tupel\n",
      "dict_items([('Berlin', 'BER'), ('Helsinki', 'HEL')])\n"
     ]
    }
   ],
   "source": [
    "\n",
    "print('Dict Ausgeben')\n",
    "for key, value in dictVoll.items():\n",
    "    print(key + ': ' + value)\n",
    "\n",
    "print('Dict Ausgabe nur Schlüssel')\n",
    "for key in dictVoll:\n",
    "    print(key)\n",
    "\n",
    "print('Dict Ausgabe nur keys ist gleich Normal')\n",
    "for key in dictVoll.keys():\n",
    "    print(key)\n",
    "\n",
    "print('Dict Ausgabe nur values')\n",
    "for values in dictVoll.values():\n",
    "    print(values)\n",
    "\n",
    "print('Dict in Liste mit Tuple')\n",
    "listTupel = dictVoll.items()\n",
    "print(listTupel)"
   ]
  },
  {
   "cell_type": "markdown",
   "metadata": {},
   "source": [
    "## Tuple"
   ]
  },
  {
   "cell_type": "code",
   "execution_count": 1,
   "metadata": {},
   "outputs": [
    {
     "name": "stdout",
     "output_type": "stream",
     "text": [
      "1\n",
      "(1, 2)\n"
     ]
    }
   ],
   "source": [
    "t = (1,2)\n",
    "print(t[0])\n",
    "print(t)"
   ]
  },
  {
   "cell_type": "markdown",
   "metadata": {},
   "source": [
    "## Set"
   ]
  },
  {
   "cell_type": "code",
   "execution_count": 2,
   "metadata": {},
   "outputs": [
    {
     "name": "stdout",
     "output_type": "stream",
     "text": [
      "{1, 2, 3, 4}\n",
      "{1, 3, 4}\n"
     ]
    }
   ],
   "source": [
    "s = {1,2,3}\n",
    "s.add(4)\n",
    "s.add(4)\n",
    "print(s)\n",
    "s.discard(2)\n",
    "print(s)"
   ]
  },
  {
   "cell_type": "markdown",
   "metadata": {},
   "source": [
    "## Funktionen"
   ]
  },
  {
   "cell_type": "markdown",
   "metadata": {},
   "source": [
    "Allgemein"
   ]
  },
  {
   "cell_type": "code",
   "execution_count": 3,
   "metadata": {},
   "outputs": [
    {
     "name": "stdout",
     "output_type": "stream",
     "text": [
      "9\n"
     ]
    }
   ],
   "source": [
    "def add(a,b):\n",
    "    return a + b\n",
    "print(add(5,4))"
   ]
  },
  {
   "cell_type": "markdown",
   "metadata": {},
   "source": [
    "## Aufgabe"
   ]
  },
  {
   "cell_type": "markdown",
   "metadata": {},
   "source": [
    "\n",
    "Schreibe eine Funktion die ausgibt ob in einer Liste gerade Zahlen sind."
   ]
  },
  {
   "cell_type": "markdown",
   "metadata": {},
   "source": [
    "Defaultwerte"
   ]
  },
  {
   "cell_type": "code",
   "execution_count": 2,
   "metadata": {},
   "outputs": [
    {
     "name": "stdout",
     "output_type": "stream",
     "text": [
      "Ohne übergabeparameter\n",
      "30\n",
      "Mit übergabeparameter\n",
      "20\n"
     ]
    }
   ],
   "source": [
    "def defaultwerte(a = 30):\n",
    "    return a\n",
    "print('Ohne übergabeparameter')\n",
    "print(defaultwerte())\n",
    "print('Mit übergabeparameter')\n",
    "print(defaultwerte(20))"
   ]
  },
  {
   "cell_type": "markdown",
   "metadata": {},
   "source": [
    "Mehrere Rückgabewerte "
   ]
  },
  {
   "cell_type": "code",
   "execution_count": 12,
   "metadata": {},
   "outputs": [
    {
     "name": "stdout",
     "output_type": "stream",
     "text": [
      "x = 1\n",
      "y = Hallo\n",
      "z = [1, 2]\n"
     ]
    }
   ],
   "source": [
    "def more():\n",
    "    l = [1,2]\n",
    "    return 1, 'Hallo', l\n",
    "x, y, z = more()\n",
    "print('x = ' + str(x) + '\\n' + 'y = ' + str(y) + '\\n' + 'z = ' + str(z))\n"
   ]
  },
  {
   "cell_type": "markdown",
   "metadata": {},
   "source": [
    "Unbekannte anzahl an Übergabeparameter"
   ]
  },
  {
   "cell_type": "code",
   "execution_count": 15,
   "metadata": {},
   "outputs": [
    {
     "name": "stdout",
     "output_type": "stream",
     "text": [
      "2\n",
      "3\n",
      "4\n",
      "5\n"
     ]
    }
   ],
   "source": [
    "def moreArgs(*args):    # *args = Unbekannte anzahl an Übergabeparameter\n",
    "    for arg in args:    # Über die *args iterieren (ohne stern)\n",
    "        print(arg + 1)\n",
    "moreArgs(1,2,3,4)"
   ]
  },
  {
   "cell_type": "markdown",
   "metadata": {},
   "source": [
    "## Aufgabe"
   ]
  },
  {
   "cell_type": "markdown",
   "metadata": {},
   "source": [
    "\n",
    "Erstelle ein Programm wo der Benutzer ein Kontaktbuch anlegt. Dort wird der Name und das Alter gespeichert. \n",
    "Kontakte = Liste \n",
    "Name und Alter = Dictionary\n",
    "Folgende Funktionen sollen entwickelt werden:\n",
    "\n",
    "def read(number) = Ausgabe des Kontaktes an der Stelle number\n",
    "def write() = Neuen Kontakt erstellen\n",
    "def searchName(name) = Name suchen\n",
    "\n",
    "Das ganze soll im Terminal gemacht werden."
   ]
  },
  {
   "cell_type": "markdown",
   "metadata": {},
   "source": [
    "## Exceptions"
   ]
  },
  {
   "cell_type": "code",
   "execution_count": 4,
   "metadata": {},
   "outputs": [
    {
     "name": "stdout",
     "output_type": "stream",
     "text": [
      "Man kann nicht durch null Teilen\n"
     ]
    }
   ],
   "source": [
    "try:\n",
    "    print(5/0)      # Versuche\n",
    "except :        # Bei einem Fehler mache das\n",
    "    print('Man kann nicht durch null Teilen')"
   ]
  },
  {
   "cell_type": "code",
   "execution_count": 1,
   "metadata": {},
   "outputs": [
    {
     "name": "stdout",
     "output_type": "stream",
     "text": [
      "Man kann nicht durch null Teilen\n"
     ]
    }
   ],
   "source": [
    "try:\n",
    "    print(5/0)      # Versuche\n",
    "except ZeroDivisionError:       # Bei einem Fehler mache das\n",
    "    print('Man kann nicht durch null Teilen')"
   ]
  },
  {
   "cell_type": "code",
   "execution_count": 9,
   "metadata": {},
   "outputs": [
    {
     "ename": "ZeroDivisionError",
     "evalue": "division by zero",
     "output_type": "error",
     "traceback": [
      "\u001b[0;31m---------------------------------------------------------------------------\u001b[0m",
      "\u001b[0;31mZeroDivisionError\u001b[0m                         Traceback (most recent call last)",
      "\u001b[1;32m/home/jsimon/Schreibtisch/Schulung/SchulungJustin.ipynb Cell 67'\u001b[0m in \u001b[0;36m<cell line: 1>\u001b[0;34m()\u001b[0m\n\u001b[1;32m      <a href='vscode-notebook-cell:/home/jsimon/Schreibtisch/Schulung/SchulungJustin.ipynb#ch0000070?line=0'>1</a>\u001b[0m \u001b[39mtry\u001b[39;00m:\n\u001b[0;32m----> <a href='vscode-notebook-cell:/home/jsimon/Schreibtisch/Schulung/SchulungJustin.ipynb#ch0000070?line=1'>2</a>\u001b[0m     \u001b[39mprint\u001b[39m(\u001b[39m5\u001b[39;49m\u001b[39m/\u001b[39;49m\u001b[39m0\u001b[39;49m)\n\u001b[1;32m      <a href='vscode-notebook-cell:/home/jsimon/Schreibtisch/Schulung/SchulungJustin.ipynb#ch0000070?line=2'>3</a>\u001b[0m \u001b[39mexcept\u001b[39;00m \u001b[39mFileNotFoundError\u001b[39;00m:\n\u001b[1;32m      <a href='vscode-notebook-cell:/home/jsimon/Schreibtisch/Schulung/SchulungJustin.ipynb#ch0000070?line=3'>4</a>\u001b[0m     \u001b[39mprint\u001b[39m(\u001b[39m\"\u001b[39m\u001b[39mDie Datei kann nicht geöffnent werden\u001b[39m\u001b[39m\"\u001b[39m)\n",
      "\u001b[0;31mZeroDivisionError\u001b[0m: division by zero"
     ]
    }
   ],
   "source": [
    "try:\n",
    "    print(5/0)      # Versuche\n",
    "except FileNotFoundError:       # Bei einem bestimmten Fehler mache das\n",
    "    print('Die Datei kann nicht geöffnent werden')"
   ]
  },
  {
   "cell_type": "code",
   "execution_count": 5,
   "metadata": {},
   "outputs": [
    {
     "name": "stdout",
     "output_type": "stream",
     "text": [
      "Die Datei kann nicht geöffnent werden\n",
      "Wird immer ausgeführt!!\n"
     ]
    }
   ],
   "source": [
    "try:\n",
    "    with open('Datei.xyz', 'r') as file:    # Versuche\n",
    "        print(file)\n",
    "except FileNotFoundError:   # Bei einem bestimmten Fehler mache das\n",
    "    print('Die Datei kann nicht geöffnent werden')\n",
    "finally:    # Führe immer aus\n",
    "    print('Wird immer ausgeführt!!')"
   ]
  },
  {
   "cell_type": "code",
   "execution_count": 6,
   "metadata": {},
   "outputs": [
    {
     "name": "stdout",
     "output_type": "stream",
     "text": [
      "Code A\n",
      "Code der immer Ausgeführt wird\n"
     ]
    }
   ],
   "source": [
    "try:\n",
    "    print(5/0)  # Versuche\n",
    "except ZeroDivisionError:   # Bei einem bestimmten Fehler mache das\n",
    "    print('Code A')\n",
    "except IndexError:          # Bei einem bestimmten Fehler mache das\n",
    "    print('Code B')\n",
    "finally:                    # Führe immer aus\n",
    "    print('Code der immer Ausgeführt wird')"
   ]
  },
  {
   "cell_type": "markdown",
   "metadata": {},
   "source": [
    "## Aufgabe erweitern"
   ]
  },
  {
   "cell_type": "markdown",
   "metadata": {},
   "source": [
    "Erweitern sie ihr Programm so das eine Fehlerhafte Eingabe vom Benutzer das Programm nicht zum Absturz bringt"
   ]
  },
  {
   "cell_type": "markdown",
   "metadata": {},
   "source": [
    "## Objektorintierung"
   ]
  },
  {
   "cell_type": "code",
   "execution_count": 20,
   "metadata": {},
   "outputs": [
    {
     "name": "stdout",
     "output_type": "stream",
     "text": [
      "Der Name ist: Peter Spahn\n"
     ]
    }
   ],
   "source": [
    "class Jumo():       # Klasse \n",
    "    def __init__(self, firstname, lastname):        # Attribute des Objektes\n",
    "        self.firstname = firstname\n",
    "        self.lastname = lastname\n",
    "    \n",
    "    def name(self):     # Funktion die das Objekt ausführen kann\n",
    "        print('Der Name ist: '+ self.firstname + ' ' + self.lastname)\n",
    "\n",
    "peter = Jumo('Peter', 'Spahn')\n",
    "peter.name()"
   ]
  },
  {
   "cell_type": "code",
   "execution_count": 13,
   "metadata": {},
   "outputs": [
    {
     "name": "stdout",
     "output_type": "stream",
     "text": [
      "+4912345\n",
      "None\n",
      "<class '__main__.PhoneBook'>\n",
      "Musterman +4912345\n",
      "Müller +491234567\n"
     ]
    }
   ],
   "source": [
    "class PhoneBook():      # Klasse \n",
    "    def __init__(self):     # Attribute des Objektes -> Keine\n",
    "        self.__entries = {}\n",
    "\n",
    "    def add(self, name, phone_number):      # Funktion die das Objekt ausführen kann\n",
    "        self.__entries[name] = phone_number\n",
    "\n",
    "    def get(self, name):        # Funktion die das Objekt ausführen kann\n",
    "        if name in self.__entries:\n",
    "            return self.__entries[name]\n",
    "        else:\n",
    "            return None\n",
    "    def all(self):              # Funktion die das Objekt ausführen kann\n",
    "        for key, value in self.__entries.items():\n",
    "            print(key + ' ' + value)\n",
    "\n",
    "book = PhoneBook()\n",
    "book.add('Musterman' , '+4912345')\n",
    "book.add('Müller' , '+491234567')\n",
    "print(book.get('Musterman'))\n",
    "print(book.get('bla'))\n",
    "\n",
    "print(type(book))\n",
    "book.all()"
   ]
  },
  {
   "cell_type": "markdown",
   "metadata": {},
   "source": [
    "Vererbung"
   ]
  },
  {
   "cell_type": "code",
   "execution_count": 1,
   "metadata": {},
   "outputs": [
    {
     "name": "stdout",
     "output_type": "stream",
     "text": [
      "Der Name ist: Max Mustermann\n",
      "Der Name ist: Max Müller und Wohnt in Fulda\n"
     ]
    }
   ],
   "source": [
    "\n",
    "class Jumo():   # Klasse \n",
    "    def __init__(self, firstname, lastname):    # Attribute des Objektes\n",
    "        self.firstname = firstname  \n",
    "        self.lastname = lastname\n",
    "    \n",
    "    def name(self):     # Funktion die das Objekt ausführen kann\n",
    "        return f'Der Name ist: {self.firstname} {self.lastname}'\n",
    "    \n",
    "class Location(Jumo):   # Vererbung -> Oberklasse \"Jumo\"\n",
    "    def __init__(self, firstname, lastname , location): # Parameter des Objektes\n",
    "        super().__init__(firstname, lastname)   # Verbte Attribute\n",
    "        self.location = location    # Neues Attribut\n",
    "\n",
    "    def nameLocation(self):     # Funktion der Unterklasse \n",
    "        return f'{super().name()} und Wohnt in {self.location}'\n",
    "\n",
    "person1 = Jumo('Max','Mustermann')\n",
    "print(person1.name())\n",
    "person2 = Location('Max', 'Müller', 'Fulda')\n",
    "print(person2.nameLocation())"
   ]
  },
  {
   "cell_type": "markdown",
   "metadata": {},
   "source": [
    "## Aufgabe"
   ]
  },
  {
   "cell_type": "markdown",
   "metadata": {},
   "source": [
    "Erstelle ein Programm mit den Klassen Person, Prof, Stu und Hochschulregister. \n",
    "Die Klassen Prof und Stu erben von Prof. \n",
    "Person hat folgende Attribute: Name und Id\n",
    "Prof hat folgende Attribute: Alle von Person und Gehalt.\n",
    "Stu hat folgende Attribute: Alle von Person und Note.\n",
    "Hochschulregister hat folgende Methoden:\n",
    "addNewStudent, addNewProf und printAll\n",
    "In den Methoden addNewStudent, addNewProf soll durch das Terminal Objekte der beiden Klassen Prof und Stu angelegt werden. Die Eingabe erfolgt über das Terminal. Gespeichert werden alle Objekte in einer Liste. In der Methode printAll sollen alle Personen ausgegeben werden.\n",
    "Es gibt noch eine Funktion die von den Aufgaben davor verwendet werden kann getModus()."
   ]
  },
  {
   "cell_type": "markdown",
   "metadata": {},
   "source": [
    "## NETIO"
   ]
  },
  {
   "cell_type": "code",
   "execution_count": null,
   "metadata": {},
   "outputs": [],
   "source": [
    "'''\n",
    "    Die NetioWrapper Klasse enthält Funktionen zur Kommunikation\n",
    "    mit den jupiterRestApiHandlers und ist somit eien Schnittstelle zu diesem\n",
    "    Der jupiterRestApiHandlers muss per pip von firmeninternen Server\n",
    "    installiert werden. Für nähere Informationen, siehe Dokumentation oder Wiki.\n",
    "\n",
    "    # pip3 install --index-url https://de-lx-nexus01.jumo.net/repository/py-jumo-ewsw-group/simple/ jupiterRestApiHandlers\n",
    "\n",
    "    Damit debugged werden kann, muss das Testgerät, welches eingerichtet werden soll an sein.\n",
    "    Dies kann über netioctl geschehen.\n",
    "    # pip3 install --index-url https://de-lx-nexus01.jumo.net/repository/py-jumo-ewsw-group/simple/ netioctl\n",
    "    # netioctl --host 10.12.95.160 --plug 4 --value 1 # plug == steckerplatz, host == ip-Adresse des Gerätes\n",
    "'''"
   ]
  }
 ],
 "metadata": {
  "interpreter": {
   "hash": "916dbcbb3f70747c44a77c7bcd40155683ae19c65e1c03b4aa3499c5328201f1"
  },
  "kernelspec": {
   "display_name": "Python 3.8.10 64-bit",
   "language": "python",
   "name": "python3"
  },
  "language_info": {
   "codemirror_mode": {
    "name": "ipython",
    "version": 3
   },
   "file_extension": ".py",
   "mimetype": "text/x-python",
   "name": "python",
   "nbconvert_exporter": "python",
   "pygments_lexer": "ipython3",
   "version": "3.8.10"
  },
  "orig_nbformat": 4
 },
 "nbformat": 4,
 "nbformat_minor": 2
}
